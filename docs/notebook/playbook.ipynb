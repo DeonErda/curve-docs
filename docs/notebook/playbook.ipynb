{
 "cells": [
  {
   "cell_type": "markdown",
   "metadata": {},
   "source": [
    "# Demonstration of using Curve registry\n",
    "\n",
    "### Essential links:\n",
    "* Source code: <https://github.com/curvefi/curve-pool-registry/tree/b17>;\n",
    "* ABI: <https://github.com/curvefi/curve-pool-registry/blob/b17/deployed/2020-06-20/registry.abi>;\n",
    "* Registry contract: `0x7002B727Ef8F5571Cb5F9D70D13DBEEb4dFAe9d1`.\n",
    "\n",
    "### Complimentary information for tests:\n",
    "* Y pool: `0x45F783CCE6B7FF23B2ab2D70e416cdb7D6055f51` (underlying coins: DAI/USDC/USDT/TUSD, compounding coins: yDAI/yUSDC/yUSDT/yTUSD);\n",
    "* DAI: `0x6B175474E89094C44Da98b954EedeAC495271d0F`;\n",
    "* USDT: `0xdAC17F958D2ee523a2206206994597C13D831ec7`;"
   ]
  },
  {
   "cell_type": "code",
   "execution_count": 1,
   "metadata": {},
   "outputs": [],
   "source": [
    "# Init Brownie environment\n",
    "# <https://eth-brownie.readthedocs.io/en/stable/python-package.html#accessing-the-network>\n",
    "from brownie import network, Contract\n",
    "network.connect('mainnet')"
   ]
  },
  {
   "cell_type": "code",
   "execution_count": 2,
   "metadata": {},
   "outputs": [],
   "source": [
    "import json\n",
    "with open('registry.abi', 'r') as f:\n",
    "    abi = json.load(f)\n",
    "registry = Contract.from_abi('CurveRegistry', '0x7002B727Ef8F5571Cb5F9D70D13DBEEb4dFAe9d1', abi)"
   ]
  },
  {
   "cell_type": "markdown",
   "metadata": {},
   "source": [
    "### Finding a pool by coins\n",
    "Pools can be found for a given pair (from -> to). There is an array of pools per pair on chain, and you need to pass an integer (0, 1, 2...) to iterate over all pools in existence who have this currency pair.\n",
    "Once there are no more pools existing for that pair, zero address is returned."
   ]
  },
  {
   "cell_type": "code",
   "execution_count": 3,
   "metadata": {},
   "outputs": [
    {
     "data": {
      "text/plain": [
       "'0x52EA46506B9CC5Ef470C5bf89f17Dc28bB35D85C'"
      ]
     },
     "execution_count": 3,
     "metadata": {},
     "output_type": "execute_result"
    }
   ],
   "source": [
    "registry.find_pool_for_coins(\"0xdAC17F958D2ee523a2206206994597C13D831ec7\",\n",
    "                             \"0x6B175474E89094C44Da98b954EedeAC495271d0F\", 0)"
   ]
  },
  {
   "cell_type": "code",
   "execution_count": 4,
   "metadata": {},
   "outputs": [
    {
     "data": {
      "text/plain": [
       "'0x45F783CCE6B7FF23B2ab2D70e416cdb7D6055f51'"
      ]
     },
     "execution_count": 4,
     "metadata": {},
     "output_type": "execute_result"
    }
   ],
   "source": [
    "registry.find_pool_for_coins(\"0xdAC17F958D2ee523a2206206994597C13D831ec7\",\n",
    "                             \"0x6B175474E89094C44Da98b954EedeAC495271d0F\", 1)"
   ]
  },
  {
   "cell_type": "code",
   "execution_count": 5,
   "metadata": {},
   "outputs": [
    {
     "data": {
      "text/plain": [
       "'0x0000000000000000000000000000000000000000'"
      ]
     },
     "execution_count": 5,
     "metadata": {},
     "output_type": "execute_result"
    }
   ],
   "source": [
    "registry.find_pool_for_coins(\"0xdAC17F958D2ee523a2206206994597C13D831ec7\",\n",
    "                             \"0x6B175474E89094C44Da98b954EedeAC495271d0F\", 10)  # ... eventually we hit 0x0000"
   ]
  },
  {
   "cell_type": "markdown",
   "metadata": {},
   "source": [
    "### Getting pool's coins\n",
    "Information is given in format:\n",
    "```python\n",
    "[\n",
    "    (compounding_coin, compounding_coin, ...),\n",
    "    (underlying_coin, underlying_coin, ...),\n",
    "    (compounding_coin_decimals, compounding_coin_decimals, ...),\n",
    "    (underlying_coin_decimals, underlying_coin_decimals, ...)\n",
    "]\n",
    "```"
   ]
  },
  {
   "cell_type": "code",
   "execution_count": 6,
   "metadata": {},
   "outputs": [
    {
     "data": {
      "text/plain": [
       "(('0x16de59092dAE5CcF4A1E6439D611fd0653f0Bd01',\n",
       "  '0xd6aD7a6750A7593E092a9B218d66C0A814a3436e',\n",
       "  '0x83f798e925BcD4017Eb265844FDDAbb448f1707D',\n",
       "  '0x73a052500105205d34Daf004eAb301916DA8190f',\n",
       "  '0x0000000000000000000000000000000000000000',\n",
       "  '0x0000000000000000000000000000000000000000',\n",
       "  '0x0000000000000000000000000000000000000000',\n",
       "  '0x0000000000000000000000000000000000000000'),\n",
       " ('0x6B175474E89094C44Da98b954EedeAC495271d0F',\n",
       "  '0xA0b86991c6218b36c1d19D4a2e9Eb0cE3606eB48',\n",
       "  '0xdAC17F958D2ee523a2206206994597C13D831ec7',\n",
       "  '0x0000000000085d4780B73119b644AE5ecd22b376',\n",
       "  '0x0000000000000000000000000000000000000000',\n",
       "  '0x0000000000000000000000000000000000000000',\n",
       "  '0x0000000000000000000000000000000000000000',\n",
       "  '0x0000000000000000000000000000000000000000'),\n",
       " (18, 6, 6, 18, 0, 0, 0, 0),\n",
       " (18, 6, 6, 18, 0, 0, 0, 0))"
      ]
     },
     "execution_count": 6,
     "metadata": {},
     "output_type": "execute_result"
    }
   ],
   "source": [
    "registry.get_pool_coins('0x45F783CCE6B7FF23B2ab2D70e416cdb7D6055f51')"
   ]
  },
  {
   "cell_type": "markdown",
   "metadata": {},
   "source": [
    "### Pool info\n",
    "Format:\n",
    "```python\n",
    "[\n",
    "    (balance_0, balance_1, ...),\n",
    "    (underlying_0, underlying_1, ...),\n",
    "    (*precisions_for_compounding_coins ...),\n",
    "    (*precisions_for_underlying_coins ...),\n",
    "    pool_token_address,\n",
    "    amplification,\n",
    "    fee multiplied by 1e10\n",
    "]\n",
    "```"
   ]
  },
  {
   "cell_type": "code",
   "execution_count": 7,
   "metadata": {},
   "outputs": [
    {
     "data": {
      "text/plain": [
       "((745449874799640907867105,\n",
       "  2042421414825,\n",
       "  8925850569394,\n",
       "  2860775568344733897581759,\n",
       "  0,\n",
       "  0,\n",
       "  0,\n",
       "  0),\n",
       " (758741938521378355217029,\n",
       "  2360734356331,\n",
       "  9145017193056,\n",
       "  2901118428965827740704506,\n",
       "  0,\n",
       "  0,\n",
       "  0,\n",
       "  0),\n",
       " (18, 6, 6, 18, 0, 0, 0, 0),\n",
       " (18, 6, 6, 18, 0, 0, 0, 0),\n",
       " '0xdF5e0e81Dff6FAF3A7e52BA697820c5e32D806A8',\n",
       " 2000,\n",
       " 4000000)"
      ]
     },
     "execution_count": 7,
     "metadata": {},
     "output_type": "execute_result"
    }
   ],
   "source": [
    "registry.get_pool_info('0x45F783CCE6B7FF23B2ab2D70e416cdb7D6055f51')"
   ]
  },
  {
   "cell_type": "markdown",
   "metadata": {},
   "source": [
    "With these rates, underlying_balance = balance * rate / 1e18"
   ]
  },
  {
   "cell_type": "code",
   "execution_count": 8,
   "metadata": {},
   "outputs": [
    {
     "data": {
      "text/plain": [
       "(1017830928907607686,\n",
       " 1155850765760560737,\n",
       " 1024554144387495179,\n",
       " 1014102071154234767,\n",
       " 0,\n",
       " 0,\n",
       " 0,\n",
       " 0)"
      ]
     },
     "execution_count": 8,
     "metadata": {},
     "output_type": "execute_result"
    }
   ],
   "source": [
    "registry.get_pool_rates('0x45F783CCE6B7FF23B2ab2D70e416cdb7D6055f51')"
   ]
  },
  {
   "cell_type": "markdown",
   "metadata": {},
   "source": [
    "### Estimate the most probable gas spent for exchanging two coins"
   ]
  },
  {
   "cell_type": "code",
   "execution_count": 9,
   "metadata": {},
   "outputs": [
    {
     "data": {
      "text/plain": [
       "799000"
      ]
     },
     "execution_count": 9,
     "metadata": {},
     "output_type": "execute_result"
    }
   ],
   "source": [
    "registry.estimate_gas_used('0x45F783CCE6B7FF23B2ab2D70e416cdb7D6055f51',\n",
    "                           '0xdAC17F958D2ee523a2206206994597C13D831ec7',\n",
    "                           '0x6B175474E89094C44Da98b954EedeAC495271d0F')"
   ]
  },
  {
   "cell_type": "markdown",
   "metadata": {},
   "source": [
    "### Calculate exchange amount(s)\n",
    "We're swapping USDC (6 digits) to DAI (18 digits)"
   ]
  },
  {
   "cell_type": "code",
   "execution_count": 10,
   "metadata": {},
   "outputs": [
    {
     "data": {
      "text/plain": [
       "0.989768806131727"
      ]
     },
     "execution_count": 10,
     "metadata": {},
     "output_type": "execute_result"
    }
   ],
   "source": [
    "dai_amount = registry.get_exchange_amount(\n",
    "                             '0x45F783CCE6B7FF23B2ab2D70e416cdb7D6055f51',\n",
    "                             '0xdAC17F958D2ee523a2206206994597C13D831ec7',\n",
    "                             '0x6B175474E89094C44Da98b954EedeAC495271d0F',\n",
    "                             10 ** 6)  # Dump 1 USDC\n",
    "dai_amount / 1e18  # DAI has 18 digits"
   ]
  },
  {
   "cell_type": "markdown",
   "metadata": {},
   "source": [
    "How much USDC do we need to get 1 DAI?"
   ]
  },
  {
   "cell_type": "code",
   "execution_count": 11,
   "metadata": {},
   "outputs": [
    {
     "data": {
      "text/plain": [
       "1.010336"
      ]
     },
     "execution_count": 11,
     "metadata": {},
     "output_type": "execute_result"
    }
   ],
   "source": [
    "usdc_amount = registry.get_input_amount(\n",
    "                             '0x45F783CCE6B7FF23B2ab2D70e416cdb7D6055f51',\n",
    "                             '0xdAC17F958D2ee523a2206206994597C13D831ec7',\n",
    "                             '0x6B175474E89094C44Da98b954EedeAC495271d0F',\n",
    "                             10 ** 18)\n",
    "usdc_amount / 1e6"
   ]
  },
  {
   "cell_type": "markdown",
   "metadata": {},
   "source": [
    "Get many exchange amounts (DAI for USDC) at once"
   ]
  },
  {
   "cell_type": "code",
   "execution_count": 12,
   "metadata": {},
   "outputs": [
    {
     "data": {
      "text/plain": [
       "[0.9897688061312254,\n",
       " 1.97953758668347,\n",
       " 2.969306341656635,\n",
       " 3.9590750710506226,\n",
       " 4.9488437748653356]"
      ]
     },
     "execution_count": 12,
     "metadata": {},
     "output_type": "execute_result"
    }
   ],
   "source": [
    "amounts = registry.get_exchange_amounts(\n",
    "                             '0x45F783CCE6B7FF23B2ab2D70e416cdb7D6055f51',\n",
    "                             '0xdAC17F958D2ee523a2206206994597C13D831ec7',\n",
    "                             '0x6B175474E89094C44Da98b954EedeAC495271d0F',\n",
    "                             [x * 10 ** 6 for x in range(1, 101)])\n",
    "[x / 1e18 for x in amounts][:5]  # Let's show only first 5 out of 100"
   ]
  },
  {
   "cell_type": "markdown",
   "metadata": {},
   "source": [
    "### Exchanges using the registry"
   ]
  },
  {
   "cell_type": "markdown",
   "metadata": {},
   "source": [
    "Reconnect to a fork of mainnet on ganache-cli"
   ]
  },
  {
   "cell_type": "code",
   "execution_count": 13,
   "metadata": {},
   "outputs": [
    {
     "name": "stdout",
     "output_type": "stream",
     "text": [
      "Launching 'ganache-cli --port 8545 --gasLimit 10000000 --accounts 10 --hardfork istanbul --mnemonic brownie --fork https://mainnet.infura.io/v3/fac98e56ea7e49608825dfc726fab703'...\n"
     ]
    }
   ],
   "source": [
    "network.disconnect()\n",
    "network.connect('mainnet-fork')"
   ]
  },
  {
   "cell_type": "markdown",
   "metadata": {},
   "source": [
    "Create an account using a saved plaintext private key (never do that at home!)"
   ]
  },
  {
   "cell_type": "code",
   "execution_count": 14,
   "metadata": {},
   "outputs": [
    {
     "data": {
      "text/plain": [
       "<LocalAccount '0x9d940795985176230F18ED4ca64545C1886615F6'>"
      ]
     },
     "execution_count": 14,
     "metadata": {},
     "output_type": "execute_result"
    }
   ],
   "source": [
    "from brownie import accounts\n",
    "from test_address import private_key\n",
    "alice = accounts.add(bytes.fromhex(private_key))\n",
    "alice"
   ]
  },
  {
   "cell_type": "markdown",
   "metadata": {},
   "source": [
    "Make ERC20 contract objects to check balances before and after"
   ]
  },
  {
   "cell_type": "code",
   "execution_count": 15,
   "metadata": {},
   "outputs": [],
   "source": [
    "with open('erc20.abi', 'r') as f:\n",
    "    abi = json.load(f)\n",
    "dai = Contract.from_abi('ERC20', '0x6B175474E89094C44Da98b954EedeAC495271d0F', abi)\n",
    "usdc = Contract.from_abi('ERC20', '0xA0b86991c6218b36c1d19D4a2e9Eb0cE3606eB48', abi)"
   ]
  },
  {
   "cell_type": "code",
   "execution_count": 16,
   "metadata": {},
   "outputs": [
    {
     "data": {
      "text/plain": [
       "0.0"
      ]
     },
     "execution_count": 16,
     "metadata": {},
     "output_type": "execute_result"
    }
   ],
   "source": [
    "dai.balanceOf(alice)/1e18"
   ]
  },
  {
   "cell_type": "code",
   "execution_count": 17,
   "metadata": {},
   "outputs": [
    {
     "data": {
      "text/plain": [
       "5.0"
      ]
     },
     "execution_count": 17,
     "metadata": {},
     "output_type": "execute_result"
    }
   ],
   "source": [
    "usdc.balanceOf(alice)/1e6"
   ]
  },
  {
   "cell_type": "code",
   "execution_count": 18,
   "metadata": {},
   "outputs": [
    {
     "name": "stdout",
     "output_type": "stream",
     "text": [
      "Transaction sent: \u001b[0;1;34m0x10423dd0e769e3816ee64fae28622820eb9195dc1bef3c60211a125601b1b4ad\u001b[0;m\n",
      "  Gas price: \u001b[0;1;34m0.0\u001b[0;m gwei   Gas limit: \u001b[0;1;34m6721975\u001b[0;m\n",
      "  ERC20.approve confirmed - Block: \u001b[0;1;34m10309099\u001b[0;m   Gas used: \u001b[0;1;34m34593\u001b[0;m (\u001b[0;1;34m0.51%\u001b[0;m)\n",
      "\n"
     ]
    },
    {
     "data": {
      "text/plain": [
       "<Transaction '\u001b[0;m0x10423dd0e769e3816ee64fae28622820eb9195dc1bef3c60211a125601b1b4ad\u001b[0;m'>"
      ]
     },
     "execution_count": 18,
     "metadata": {},
     "output_type": "execute_result"
    }
   ],
   "source": [
    "usdc.approve(registry, 5 * 10 ** 6, {'from': alice})"
   ]
  },
  {
   "cell_type": "code",
   "execution_count": 19,
   "metadata": {},
   "outputs": [
    {
     "name": "stdout",
     "output_type": "stream",
     "text": [
      "Transaction sent: \u001b[0;1;34m0xfef8f2f9d975175b584142f12e84f91bf88a1a25a12fb9f77622bcb30f679d42\u001b[0;m\n",
      "  Gas price: \u001b[0;1;34m0.0\u001b[0;m gwei   Gas limit: \u001b[0;1;34m6721975\u001b[0;m\n",
      "  CurveRegistry.exchange confirmed - Block: \u001b[0;1;34m10309100\u001b[0;m   Gas used: \u001b[0;1;34m133636\u001b[0;m (\u001b[0;1;34m1.99%\u001b[0;m)\n",
      "\n"
     ]
    },
    {
     "data": {
      "text/plain": [
       "<Transaction '\u001b[0;m0xfef8f2f9d975175b584142f12e84f91bf88a1a25a12fb9f77622bcb30f679d42\u001b[0;m'>"
      ]
     },
     "execution_count": 19,
     "metadata": {},
     "output_type": "execute_result"
    }
   ],
   "source": [
    "registry.exchange('0xA5407eAE9Ba41422680e2e00537571bcC53efBfD',  # SUSD pool\n",
    "                  '0xA0b86991c6218b36c1d19D4a2e9Eb0cE3606eB48',  # from USDC\n",
    "                  '0x6B175474E89094C44Da98b954EedeAC495271d0F',  # to DAI\n",
    "                  10 ** 6,                                       # swap 1 dollar\n",
    "                  10 ** 18 // 2,                                 # require no less than half a dollar\n",
    "                  {'from': alice})"
   ]
  },
  {
   "cell_type": "code",
   "execution_count": 20,
   "metadata": {},
   "outputs": [
    {
     "data": {
      "text/plain": [
       "0.992977248517724"
      ]
     },
     "execution_count": 20,
     "metadata": {},
     "output_type": "execute_result"
    }
   ],
   "source": [
    "dai.balanceOf(alice)/1e18"
   ]
  },
  {
   "cell_type": "code",
   "execution_count": 21,
   "metadata": {},
   "outputs": [
    {
     "data": {
      "text/plain": [
       "4.0"
      ]
     },
     "execution_count": 21,
     "metadata": {},
     "output_type": "execute_result"
    }
   ],
   "source": [
    "usdc.balanceOf(alice)/1e6"
   ]
  }
 ],
 "metadata": {
  "kernelspec": {
   "display_name": "Python 3",
   "language": "python",
   "name": "python3"
  },
  "language_info": {
   "codemirror_mode": {
    "name": "ipython",
    "version": 3
   },
   "file_extension": ".py",
   "mimetype": "text/x-python",
   "name": "python",
   "nbconvert_exporter": "python",
   "pygments_lexer": "ipython3",
   "version": "3.6.9"
  }
 },
 "nbformat": 4,
 "nbformat_minor": 4
}
